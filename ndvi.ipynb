{
 "cells": [
  {
   "cell_type": "code",
   "execution_count": 1,
   "metadata": {},
   "outputs": [
    {
     "data": {
      "text/plain": [
       "True"
      ]
     },
     "execution_count": 1,
     "metadata": {},
     "output_type": "execute_result"
    }
   ],
   "source": [
    "import geopandas as gpd\n",
    "import geemap\n",
    "from outils.initializeGEE import initializeEarthEngine\n",
    "from indexes.sentinel2IndexCalculator import *\n",
    "\n",
    "# Autentica e inicializa o Google Earth Engine\n",
    "initializeEarthEngine()"
   ]
  },
  {
   "cell_type": "code",
   "execution_count": 2,
   "metadata": {},
   "outputs": [],
   "source": [
    "gdf = gpd.read_parquet('data\\\\terrasIndigenasBr.parquet')\n",
    "gdf = gdf[:3]\n",
    "gdf_ee = geemap.geopandas_to_ee(gdf)"
   ]
  },
  {
   "cell_type": "code",
   "execution_count": null,
   "metadata": {},
   "outputs": [
    {
     "name": "stderr",
     "output_type": "stream",
     "text": [
      "Processing NDVI:  86%|████████▌ | 113/132 [05:45<00:57,  3.02s/it]"
     ]
    }
   ],
   "source": [
    "# Define the start and end dates, region, and batch size\n",
    "start_date = '2022-01-01'\n",
    "end_date = '2024-12-31'\n",
    "batch_size = 10\n",
    "\n",
    "# Create an instance of NDVICalculator\n",
    "calculator = Sentinel2IndexCalculator(start_date, \n",
    "                                      end_date, \n",
    "                                      gdf_ee, \n",
    "                                      id_column='terrai_cod', \n",
    "                                      batch_size=batch_size)\n",
    "\n",
    "# Calcule apenas o índice NDVI\n",
    "ndvi_df = calculator.calculate_single_index('ndvi')"
   ]
  },
  {
   "cell_type": "code",
   "execution_count": null,
   "metadata": {},
   "outputs": [],
   "source": [
    "ndvi_df"
   ]
  }
 ],
 "metadata": {
  "kernelspec": {
   "display_name": "python-geo",
   "language": "python",
   "name": "python3"
  },
  "language_info": {
   "codemirror_mode": {
    "name": "ipython",
    "version": 3
   },
   "file_extension": ".py",
   "mimetype": "text/x-python",
   "name": "python",
   "nbconvert_exporter": "python",
   "pygments_lexer": "ipython3",
   "version": "3.11.7"
  }
 },
 "nbformat": 4,
 "nbformat_minor": 2
}
