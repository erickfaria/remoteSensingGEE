{
 "cells": [
  {
   "cell_type": "code",
   "execution_count": 2,
   "metadata": {},
   "outputs": [
    {
     "data": {
      "text/plain": [
       "True"
      ]
     },
     "execution_count": 2,
     "metadata": {},
     "output_type": "execute_result"
    }
   ],
   "source": [
    "import geopandas as gpd\n",
    "import geemap\n",
    "from outils.initializeGEE import initializeEarthEngine\n",
    "from indexes.sentinel2IndexCalculator import *\n",
    "\n",
    "# Autentica e inicializa o Google Earth Engine\n",
    "initializeEarthEngine()"
   ]
  },
  {
   "cell_type": "code",
   "execution_count": 3,
   "metadata": {},
   "outputs": [
    {
     "name": "stdout",
     "output_type": "stream",
     "text": [
      "Calculating NDVI for 3 territories from 2022-01-01 to 2024-12-31...\n"
     ]
    },
    {
     "name": "stderr",
     "output_type": "stream",
     "text": [
      "Processing NDVI: 100%|██████████| 132/132 [06:36<00:00,  3.01s/it]"
     ]
    },
    {
     "name": "stdout",
     "output_type": "stream",
     "text": [
      "NDVI calculation complete. Results shape: (3954, 3)\n",
      "\n",
      "NDVI Summary Statistics:\n",
      "        terrai_cod         ndvi\n",
      "count  3954.000000  1293.000000\n",
      "mean    301.000000     0.281969\n",
      "std     216.052012     0.221811\n",
      "min     101.000000    -0.273592\n",
      "25%     101.000000     0.089480\n",
      "50%     201.000000     0.271693\n",
      "75%     601.000000     0.424765\n",
      "max     601.000000     0.875951\n",
      "Results saved to ndvi_results_20220101_20241231.csv\n"
     ]
    },
    {
     "name": "stderr",
     "output_type": "stream",
     "text": [
      "\n"
     ]
    }
   ],
   "source": [
    "# Load indigenous territories data from parquet file\n",
    "# Only the first 3 territories are selected for this example\n",
    "gdf = gpd.read_parquet('data/terrasIndigenasBr.parquet')\n",
    "gdf = gdf[:3]  # Using only 3 territories for demonstration/testing\n",
    "\n",
    "# Convert GeoDataFrame to Earth Engine FeatureCollection\n",
    "# This is necessary to use the geometries in Google Earth Engine\n",
    "gdf_ee = geemap.geopandas_to_ee(gdf)\n",
    "\n",
    "# Configuration parameters for satellite imagery analysis\n",
    "start_date = '2022-01-01'\n",
    "end_date = '2024-12-31'\n",
    "batch_size = 10  # Number of features to process in each batch\n",
    "\n",
    "# Create an instance of Sentinel2IndexCalculator\n",
    "# This calculator will handle the retrieval and processing of Sentinel-2 imagery\n",
    "calculator = Sentinel2IndexCalculator(\n",
    "    start_date, \n",
    "    end_date, \n",
    "    gdf_ee,  \n",
    "    id_column='terrai_cod',  # Column containing unique identifiers for each territory\n",
    "    batch_size=batch_size    # Process features in batches to avoid memory issues\n",
    ")\n",
    "\n",
    "# Calculate NDVI (Normalized Difference Vegetation Index) for all territories\n",
    "# NDVI is a measure of vegetation health and density\n",
    "print(f\"Calculating NDVI for {len(gdf)} territories from {start_date} to {end_date}...\")\n",
    "ndvi_df = calculator.calculate_single_index('ndvi')\n",
    "\n",
    "# Display summary statistics of the resulting NDVI values\n",
    "print(f\"NDVI calculation complete. Results shape: {ndvi_df.shape}\")\n",
    "print(\"\\nNDVI Summary Statistics:\")\n",
    "print(ndvi_df.describe())\n",
    "\n",
    "# Save results to CSV (optional)\n",
    "output_file = f\"ndvi_results_{start_date.replace('-', '')}_{end_date.replace('-', '')}.csv\"\n",
    "ndvi_df.to_csv(output_file)\n",
    "print(f\"Results saved to {output_file}\")"
   ]
  }
 ],
 "metadata": {
  "kernelspec": {
   "display_name": "python-geo",
   "language": "python",
   "name": "python3"
  },
  "language_info": {
   "codemirror_mode": {
    "name": "ipython",
    "version": 3
   },
   "file_extension": ".py",
   "mimetype": "text/x-python",
   "name": "python",
   "nbconvert_exporter": "python",
   "pygments_lexer": "ipython3",
   "version": "3.11.7"
  }
 },
 "nbformat": 4,
 "nbformat_minor": 2
}
